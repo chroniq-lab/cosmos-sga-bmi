{
 "cells": [
  {
   "cell_type": "code",
   "execution_count": 2,
   "id": "6f1ebb69",
   "metadata": {},
   "outputs": [],
   "source": [
    "import sys\n",
    "import os\n",
    "execfile(\"C:/code/external/functions/cosmos/code_splitter.py\")\n",
    "code_splitter(\"C:/Cloud/OneDrive - Emory University/Papers/COSMOS SGA BMI Change/working/TRANSFER/sga_bmi.txt\",\n",
    "              \"C:/code/external/cosmos-sga-bmi\")"
   ]
  }
 ],
 "metadata": {
  "kernelspec": {
   "display_name": "Python 3",
   "language": "python",
   "name": "python3"
  },
  "language_info": {
   "codemirror_mode": {
    "name": "ipython",
    "version": 3
   },
   "file_extension": ".py",
   "mimetype": "text/x-python",
   "name": "python",
   "nbconvert_exporter": "python",
   "pygments_lexer": "ipython3",
   "version": "3.11.4"
  }
 },
 "nbformat": 4,
 "nbformat_minor": 5
}
